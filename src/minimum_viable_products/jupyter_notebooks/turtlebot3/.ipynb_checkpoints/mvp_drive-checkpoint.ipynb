{
 "cells": [
  {
   "cell_type": "code",
   "execution_count": null,
   "id": "56220504",
   "metadata": {},
   "outputs": [],
   "source": [
    "import rclpy\n",
    "from rclpy.node import Node\n",
    "from geometry_msgs.msg import Twist"
   ]
  },
  {
   "cell_type": "code",
   "execution_count": null,
   "id": "b8b557b3",
   "metadata": {},
   "outputs": [],
   "source": [
    "class MinimalPublisher(Node):\n",
    "\n",
    "    def __init__(self):\n",
    "        super().__init__('minimal_publisher')\n",
    "        self.publisher_ = self.create_publisher(Twist, 'cmd_vel', 10)\n",
    "        timer_period = 0.1  # seconds\n",
    "        self.timer = self.create_timer(timer_period, self.timer_callback)\n",
    "        self.i = 0\n",
    "\n",
    "    def timer_callback(self):\n",
    "        vel_msg = Twist()\n",
    "        vel_msg.linear.x = 0.26\n",
    "        self.publisher_.publish(vel_msg)\n",
    "        self.get_logger().info(f'Publishing: \"{vel_msg.linear.x}\"')\n",
    "        self.i += 1"
   ]
  },
  {
   "cell_type": "code",
   "execution_count": null,
   "id": "132c47b7",
   "metadata": {},
   "outputs": [],
   "source": [
    "rclpy.init()"
   ]
  },
  {
   "cell_type": "code",
   "execution_count": null,
   "id": "d92080b9",
   "metadata": {},
   "outputs": [],
   "source": [
    "pub_node = MinimalPublisher()"
   ]
  },
  {
   "cell_type": "code",
   "execution_count": null,
   "id": "d31b6bad",
   "metadata": {},
   "outputs": [],
   "source": [
    "rclpy.spin_once(pub_node)"
   ]
  },
  {
   "cell_type": "code",
   "execution_count": null,
   "id": "e848353c",
   "metadata": {},
   "outputs": [],
   "source": []
  }
 ],
 "metadata": {
  "kernelspec": {
   "display_name": "Python 3 (ipykernel)",
   "language": "python",
   "name": "python3"
  },
  "language_info": {
   "codemirror_mode": {
    "name": "ipython",
    "version": 3
   },
   "file_extension": ".py",
   "mimetype": "text/x-python",
   "name": "python",
   "nbconvert_exporter": "python",
   "pygments_lexer": "ipython3",
   "version": "3.8.10"
  }
 },
 "nbformat": 4,
 "nbformat_minor": 5
}
