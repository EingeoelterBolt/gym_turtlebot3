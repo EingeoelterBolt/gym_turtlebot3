{
 "cells": [
  {
   "cell_type": "code",
   "execution_count": null,
   "id": "2bb55bbf",
   "metadata": {},
   "outputs": [],
   "source": [
    "import rclpy\n",
    "from rclpy.node import Node\n",
    "from sensor_msgs.msg import LaserScan\n",
    "from rclpy.qos import qos_profile_sensor_data"
   ]
  },
  {
   "cell_type": "code",
   "execution_count": null,
   "id": "ba16339e",
   "metadata": {},
   "outputs": [],
   "source": [
    "def callback(msg):\n",
    "    print(msg)"
   ]
  },
  {
   "cell_type": "code",
   "execution_count": null,
   "id": "07bc51cb",
   "metadata": {},
   "outputs": [],
   "source": [
    "rclpy.init()"
   ]
  },
  {
   "cell_type": "code",
   "execution_count": null,
   "id": "7a814357",
   "metadata": {},
   "outputs": [],
   "source": [
    "# subscriber\n",
    "node = rclpy.create_node(\"sub_laser\")"
   ]
  },
  {
   "cell_type": "code",
   "execution_count": null,
   "id": "ba8adc68",
   "metadata": {},
   "outputs": [],
   "source": [
    "scan_sub = node.create_subscription(LaserScan,\"/scan\", callback ,qos_profile=qos_profile_sensor_data) # qos_profile_sensor_data allows packet loss"
   ]
  },
  {
   "cell_type": "code",
   "execution_count": null,
   "id": "61c129b1",
   "metadata": {},
   "outputs": [],
   "source": [
    "rclpy.spin(node)"
   ]
  },
  {
   "cell_type": "code",
   "execution_count": null,
   "id": "35cb28a7",
   "metadata": {},
   "outputs": [],
   "source": []
  }
 ],
 "metadata": {
  "kernelspec": {
   "display_name": "Python 3",
   "language": "python",
   "name": "python3"
  },
  "language_info": {
   "codemirror_mode": {
    "name": "ipython",
    "version": 3
   },
   "file_extension": ".py",
   "mimetype": "text/x-python",
   "name": "python",
   "nbconvert_exporter": "python",
   "pygments_lexer": "ipython3",
   "version": "3.8.5"
  }
 },
 "nbformat": 4,
 "nbformat_minor": 5
}