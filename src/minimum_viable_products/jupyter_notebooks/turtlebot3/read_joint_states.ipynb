{
 "cells": [
  {
   "cell_type": "code",
   "execution_count": null,
   "id": "01aafd14",
   "metadata": {},
   "outputs": [],
   "source": [
    "import rclpy\n",
    "from rclpy.node import Node\n",
    "from sensor_msgs.msg import JointState"
   ]
  },
  {
   "cell_type": "code",
   "execution_count": null,
   "id": "25c29d0e",
   "metadata": {},
   "outputs": [],
   "source": [
    "def callback(msg):\n",
    "    print(msg)"
   ]
  },
  {
   "cell_type": "code",
   "execution_count": null,
   "id": "6a8b6542",
   "metadata": {},
   "outputs": [],
   "source": [
    "rclpy.init()"
   ]
  },
  {
   "cell_type": "code",
   "execution_count": null,
   "id": "bee2f47c",
   "metadata": {},
   "outputs": [],
   "source": [
    "# subscriber\n",
    "node = rclpy.create_node(\"joint_subscriber\")"
   ]
  },
  {
   "cell_type": "code",
   "execution_count": null,
   "id": "ac027e68",
   "metadata": {},
   "outputs": [],
   "source": [
    "joint_subscriber = node.create_subscription(JointState,\"/joint_states\", callback ,qos_profile=10)"
   ]
  },
  {
   "cell_type": "code",
   "execution_count": null,
   "id": "bdc89e92",
   "metadata": {},
   "outputs": [],
   "source": [
    "rclpy.spin(node)"
   ]
  },
  {
   "cell_type": "code",
   "execution_count": null,
   "id": "e7b0e9e4",
   "metadata": {},
   "outputs": [],
   "source": []
  }
 ],
 "metadata": {
  "kernelspec": {
   "display_name": "Python 3",
   "language": "python",
   "name": "python3"
  },
  "language_info": {
   "codemirror_mode": {
    "name": "ipython",
    "version": 3
   },
   "file_extension": ".py",
   "mimetype": "text/x-python",
   "name": "python",
   "nbconvert_exporter": "python",
   "pygments_lexer": "ipython3",
   "version": "3.8.5"
  }
 },
 "nbformat": 4,
 "nbformat_minor": 5
}