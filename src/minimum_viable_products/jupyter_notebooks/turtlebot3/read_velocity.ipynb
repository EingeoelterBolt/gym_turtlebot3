{
 "cells": [
  {
   "cell_type": "code",
   "execution_count": null,
   "id": "089e5d9f",
   "metadata": {},
   "outputs": [],
   "source": [
    "import rclpy\n",
    "from rclpy.node import Node\n",
    "from rclpy.qos import qos_profile_sensor_data\n",
    "from geometry_msgs.msg import Twist"
   ]
  },
  {
   "cell_type": "code",
   "execution_count": null,
   "id": "c3a82b7e",
   "metadata": {},
   "outputs": [],
   "source": [
    "def callback(msg):\n",
    "    print(msg)\n",
    "    print(msg.linear)\n",
    "    print(msg.linear.x)\n",
    "    print(msg.angular)"
   ]
  },
  {
   "cell_type": "code",
   "execution_count": null,
   "id": "4295c0e2",
   "metadata": {},
   "outputs": [],
   "source": [
    "rclpy.init()"
   ]
  },
  {
   "cell_type": "code",
   "execution_count": null,
   "id": "023c0fb9",
   "metadata": {},
   "outputs": [],
   "source": [
    "sub_node = rclpy.create_node(\"sub_velocity\")\n",
    "sub = sub_node.create_subscription(Twist,\"/cmd_vel\", callback ,qos_profile=qos_profile_sensor_data) # qos_profile_sensor_data allows packet loss"
   ]
  },
  {
   "cell_type": "code",
   "execution_count": null,
   "id": "98dffd50",
   "metadata": {},
   "outputs": [],
   "source": [
    "rclpy.spin_once(sub_node)"
   ]
  },
  {
   "cell_type": "code",
   "execution_count": null,
   "id": "b76c55a2",
   "metadata": {},
   "outputs": [],
   "source": []
  }
 ],
 "metadata": {
  "kernelspec": {
   "display_name": "Python 3",
   "language": "python",
   "name": "python3"
  },
  "language_info": {
   "codemirror_mode": {
    "name": "ipython",
    "version": 3
   },
   "file_extension": ".py",
   "mimetype": "text/x-python",
   "name": "python",
   "nbconvert_exporter": "python",
   "pygments_lexer": "ipython3",
   "version": "3.8.5"
  }
 },
 "nbformat": 4,
 "nbformat_minor": 5
}