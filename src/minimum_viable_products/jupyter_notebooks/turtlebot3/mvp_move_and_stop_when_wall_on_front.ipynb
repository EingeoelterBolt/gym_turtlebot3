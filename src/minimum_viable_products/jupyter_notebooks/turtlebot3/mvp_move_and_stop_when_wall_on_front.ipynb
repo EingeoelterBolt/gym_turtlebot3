{
 "cells": [
  {
   "cell_type": "code",
   "execution_count": null,
   "id": "1562c3f0",
   "metadata": {},
   "outputs": [],
   "source": [
    "import rclpy\n",
    "from sensor_msgs.msg import LaserScan\n",
    "from geometry_msgs.msg import Twist\n",
    "from rclpy.qos import qos_profile_sensor_data"
   ]
  },
  {
   "cell_type": "code",
   "execution_count": null,
   "id": "016398f6",
   "metadata": {},
   "outputs": [],
   "source": [
    "def callback(msg):    \n",
    "    if msg.ranges[0]>0.75:\n",
    "        move.linear.x = 0.15\n",
    "        move.angular.z = 0.0\n",
    "    else: \n",
    "        move.linear.x = 0.0\n",
    "        move.angular.z = 0.0\n",
    "    pub.publish(move)"
   ]
  },
  {
   "cell_type": "code",
   "execution_count": null,
   "id": "64703896",
   "metadata": {},
   "outputs": [],
   "source": [
    "rclpy.init()"
   ]
  },
  {
   "cell_type": "code",
   "execution_count": null,
   "id": "a4bfe981",
   "metadata": {},
   "outputs": [],
   "source": [
    "sub_node = rclpy.create_node(\"sub_laser\")\n",
    "sub = sub_node.create_subscription(LaserScan,\"/scan\", callback ,qos_profile=qos_profile_sensor_data) # qos_profile_sensor_data allows packet loss"
   ]
  },
  {
   "cell_type": "code",
   "execution_count": null,
   "id": "ad728ffe",
   "metadata": {},
   "outputs": [],
   "source": [
    "pub = rclpy.create_node(\"pub_move\").create_publisher(Twist, \"cmd_vel\", 10)"
   ]
  },
  {
   "cell_type": "code",
   "execution_count": null,
   "id": "59daaa6e",
   "metadata": {},
   "outputs": [],
   "source": [
    "move = Twist()"
   ]
  },
  {
   "cell_type": "code",
   "execution_count": null,
   "id": "11601257",
   "metadata": {},
   "outputs": [],
   "source": [
    "rclpy.spin(sub_node)"
   ]
  },
  {
   "cell_type": "code",
   "execution_count": null,
   "id": "b824978a",
   "metadata": {},
   "outputs": [],
   "source": []
  }
 ],
 "metadata": {
  "kernelspec": {
   "display_name": "Python 3",
   "language": "python",
   "name": "python3"
  },
  "language_info": {
   "codemirror_mode": {
    "name": "ipython",
    "version": 3
   },
   "file_extension": ".py",
   "mimetype": "text/x-python",
   "name": "python",
   "nbconvert_exporter": "python",
   "pygments_lexer": "ipython3",
   "version": "3.8.5"
  }
 },
 "nbformat": 4,
 "nbformat_minor": 5
}
