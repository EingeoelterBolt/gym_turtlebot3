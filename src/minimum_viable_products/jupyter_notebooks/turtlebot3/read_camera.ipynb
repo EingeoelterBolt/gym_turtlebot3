{
 "cells": [
  {
   "cell_type": "code",
   "execution_count": null,
   "id": "5850a238",
   "metadata": {},
   "outputs": [],
   "source": [
    "# Background info\n",
    "# http://wiki.ros.org/cv_bridge/Tutorials/ConvertingBetweenROSImagesAndOpenCVImagesPython"
   ]
  },
  {
   "cell_type": "code",
   "execution_count": null,
   "id": "8fe1f592",
   "metadata": {},
   "outputs": [],
   "source": [
    "# based on ros1 implementation\n",
    "# https://youtu.be/ukGa74saFfM?t=773"
   ]
  },
  {
   "cell_type": "code",
   "execution_count": null,
   "id": "b8deeab3",
   "metadata": {},
   "outputs": [],
   "source": [
    "import rclpy\n",
    "from rclpy.qos import qos_profile_sensor_data\n",
    "from rclpy.node import Node\n",
    "from sensor_msgs.msg import Image\n",
    "from cv_bridge import CvBridge, CvBridgeError\n",
    "import cv2"
   ]
  },
  {
   "cell_type": "code",
   "execution_count": null,
   "id": "a198b6fd",
   "metadata": {},
   "outputs": [],
   "source": [
    "def callback(msg):\n",
    "    cv_image = CvBridge().imgmsg_to_cv2(msg, desired_encoding=\"bgr8\")\n",
    "    cv2.imshow(\"Image widnows\", cv_image)\n",
    "    cv2.waitKey(1)"
   ]
  },
  {
   "cell_type": "code",
   "execution_count": null,
   "id": "077a0761",
   "metadata": {},
   "outputs": [],
   "source": [
    "rclpy.init()"
   ]
  },
  {
   "cell_type": "code",
   "execution_count": null,
   "id": "0dda607c",
   "metadata": {},
   "outputs": [],
   "source": [
    "sub_cam = rclpy.create_node(\"sub_cam\")"
   ]
  },
  {
   "cell_type": "code",
   "execution_count": null,
   "id": "44a3b8d3",
   "metadata": {},
   "outputs": [],
   "source": [
    "sub = sub_cam.create_subscription(Image,\"/camera/image_raw\", callback ,qos_profile=qos_profile_sensor_data) # qos_profile_sensor_data allows packet loss"
   ]
  },
  {
   "cell_type": "code",
   "execution_count": null,
   "id": "3ccfd0c9",
   "metadata": {},
   "outputs": [],
   "source": [
    "rclpy.spin(sub_cam)"
   ]
  },
  {
   "cell_type": "code",
   "execution_count": null,
   "id": "c8933108",
   "metadata": {},
   "outputs": [],
   "source": []
  }
 ],
 "metadata": {
  "kernelspec": {
   "display_name": "Python 3",
   "language": "python",
   "name": "python3"
  },
  "language_info": {
   "codemirror_mode": {
    "name": "ipython",
    "version": 3
   },
   "file_extension": ".py",
   "mimetype": "text/x-python",
   "name": "python",
   "nbconvert_exporter": "python",
   "pygments_lexer": "ipython3",
   "version": "3.8.5"
  },
  "metadata": {
   "interpreter": {
    "hash": "d776bbdc909bb8da98e4fdfa9a2ed1939ad273aba5446996d4ead3955efb8f04"
   }
  }
 },
 "nbformat": 4,
 "nbformat_minor": 5
}