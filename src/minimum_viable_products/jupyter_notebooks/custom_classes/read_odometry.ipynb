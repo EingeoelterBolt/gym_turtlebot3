{
 "cells": [
  {
   "cell_type": "code",
   "execution_count": null,
   "id": "f5f3bd9e",
   "metadata": {},
   "outputs": [],
   "source": [
    "import os\n",
    "import inspect\n",
    "import sys\n",
    "import rclpy\n",
    "from scipy import spatial\n",
    "from pathlib import Path\n",
    "current_dir = os.path.dirname(os.path.abspath(inspect.getfile(inspect.currentframe())))\n",
    "package_dir = Path(current_dir).resolve().parent.parent.parent\n",
    "sys.path.insert(0, str(package_dir))\n",
    "from nodes.topics.subscribers import OdometrySubscriber"
   ]
  },
  {
   "cell_type": "code",
   "execution_count": null,
   "id": "d9266b04",
   "metadata": {},
   "outputs": [],
   "source": [
    "def get_euclidean_distance(cx,cy,tx,ty):\n",
    "    return spatial.distance.euclidean([cx,cy],[tx,ty])"
   ]
  },
  {
   "cell_type": "code",
   "execution_count": null,
   "id": "f57d0da5",
   "metadata": {},
   "outputs": [],
   "source": [
    "rclpy.init()"
   ]
  },
  {
   "cell_type": "code",
   "execution_count": null,
   "id": "7c7c3145",
   "metadata": {},
   "outputs": [],
   "source": [
    "odometry = OdometrySubscriber()"
   ]
  },
  {
   "cell_type": "code",
   "execution_count": null,
   "id": "baa1cdff",
   "metadata": {},
   "outputs": [],
   "source": [
    "while rclpy.ok:\n",
    "    rclpy.spin_once(odometry)\n",
    "    distance = get_euclidean_distance(odometry.position.x,odometry.position.y, 0.5,-0.5)\n",
    "    print(f\"x: {odometry.position.x}, y: {odometry.position.y}\")\n",
    "    \n",
    "    if distance <=0.25:\n",
    "        print(f\"Target reached. distance: {distance}\")\n",
    "    "
   ]
  },
  {
   "cell_type": "code",
   "execution_count": null,
   "id": "9e69a6c7",
   "metadata": {},
   "outputs": [],
   "source": []
  }
 ],
 "metadata": {
  "kernelspec": {
   "display_name": "Python 3 (ipykernel)",
   "language": "python",
   "name": "python3"
  },
  "language_info": {
   "codemirror_mode": {
    "name": "ipython",
    "version": 3
   },
   "file_extension": ".py",
   "mimetype": "text/x-python",
   "name": "python",
   "nbconvert_exporter": "python",
   "pygments_lexer": "ipython3",
   "version": "3.8.10"
  }
 },
 "nbformat": 4,
 "nbformat_minor": 5
}
