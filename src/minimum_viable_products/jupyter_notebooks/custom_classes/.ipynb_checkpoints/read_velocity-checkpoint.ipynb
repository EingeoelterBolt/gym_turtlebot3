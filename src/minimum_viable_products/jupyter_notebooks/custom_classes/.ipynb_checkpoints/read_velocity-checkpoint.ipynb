{
 "cells": [
  {
   "cell_type": "code",
   "execution_count": null,
   "id": "0bcdeaef",
   "metadata": {},
   "outputs": [],
   "source": [
    "import os\n",
    "import inspect\n",
    "import sys\n",
    "import rclpy\n",
    "from pathlib import Path\n",
    "current_dir = os.path.dirname(os.path.abspath(inspect.getfile(inspect.currentframe())))\n",
    "package_dir = Path(current_dir).resolve().parent.parent.parent\n",
    "sys.path.insert(0, str(package_dir))\n",
    "from nodes.topics.subscribers import VelocitySubscriber"
   ]
  },
  {
   "cell_type": "code",
   "execution_count": null,
   "id": "67414995",
   "metadata": {},
   "outputs": [],
   "source": [
    "rclpy.init()"
   ]
  },
  {
   "cell_type": "code",
   "execution_count": null,
   "id": "73763068",
   "metadata": {},
   "outputs": [],
   "source": [
    "node = VelocitySubscriber()"
   ]
  },
  {
   "cell_type": "markdown",
   "id": "76ef2df2",
   "metadata": {},
   "source": [
    "Call ```ros2 run turtlebot3_teleop teleop_keyboard``` in the terminal and publish velocity to read velocity"
   ]
  },
  {
   "cell_type": "code",
   "execution_count": null,
   "id": "2b7b564a",
   "metadata": {},
   "outputs": [],
   "source": [
    "while rclpy.ok:\n",
    "    rclpy.spin_once(node)\n",
    "    print(node.linear.x)"
   ]
  },
  {
   "cell_type": "code",
   "execution_count": null,
   "id": "fae47661",
   "metadata": {},
   "outputs": [],
   "source": []
  }
 ],
 "metadata": {
  "kernelspec": {
   "display_name": "Python 3",
   "language": "python",
   "name": "python3"
  },
  "language_info": {
   "codemirror_mode": {
    "name": "ipython",
    "version": 3
   },
   "file_extension": ".py",
   "mimetype": "text/x-python",
   "name": "python",
   "nbconvert_exporter": "python",
   "pygments_lexer": "ipython3",
   "version": "3.8.10"
  }
 },
 "nbformat": 4,
 "nbformat_minor": 5
}
