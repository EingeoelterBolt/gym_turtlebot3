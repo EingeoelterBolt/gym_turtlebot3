{
 "cells": [
  {
   "cell_type": "code",
   "execution_count": null,
   "id": "77687ce0",
   "metadata": {},
   "outputs": [],
   "source": [
    "import os\n",
    "import inspect\n",
    "import sys\n",
    "import rclpy\n",
    "from pathlib import Path\n",
    "current_dir = os.path.dirname(os.path.abspath(inspect.getfile(inspect.currentframe())))\n",
    "package_dir = Path(current_dir).resolve().parent.parent.parent\n",
    "sys.path.insert(0, str(package_dir))\n",
    "from nodes.services.clients import GazeboResetSimulationServiceClient"
   ]
  },
  {
   "cell_type": "code",
   "execution_count": null,
   "id": "e77c9d6d",
   "metadata": {},
   "outputs": [],
   "source": [
    "rclpy.init()"
   ]
  },
  {
   "cell_type": "code",
   "execution_count": null,
   "id": "fcd831a2",
   "metadata": {},
   "outputs": [],
   "source": [
    "# Make sure gazebo is running\n",
    "reset = GazeboResetSimulationServiceClient()"
   ]
  },
  {
   "cell_type": "code",
   "execution_count": null,
   "id": "b9dfac53",
   "metadata": {},
   "outputs": [],
   "source": [
    "reset.send_request()"
   ]
  },
  {
   "cell_type": "code",
   "execution_count": null,
   "id": "f14e3aed",
   "metadata": {},
   "outputs": [],
   "source": []
  }
 ],
 "metadata": {
  "kernelspec": {
   "display_name": "Python 3 (ipykernel)",
   "language": "python",
   "name": "python3"
  },
  "language_info": {
   "codemirror_mode": {
    "name": "ipython",
    "version": 3
   },
   "file_extension": ".py",
   "mimetype": "text/x-python",
   "name": "python",
   "nbconvert_exporter": "python",
   "pygments_lexer": "ipython3",
   "version": "3.8.10"
  }
 },
 "nbformat": 4,
 "nbformat_minor": 5
}
