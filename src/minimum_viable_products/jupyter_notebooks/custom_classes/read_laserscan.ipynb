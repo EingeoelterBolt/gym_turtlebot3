{
 "cells": [
  {
   "cell_type": "code",
   "execution_count": 3,
   "id": "4be5fd31",
   "metadata": {},
   "outputs": [],
   "source": [
    "import os\n",
    "import inspect\n",
    "import sys\n",
    "import rclpy\n",
    "from pathlib import Path\n",
    "current_dir = os.path.dirname(os.path.abspath(inspect.getfile(inspect.currentframe())))\n",
    "package_dir = Path(current_dir).resolve().parent.parent.parent\n",
    "sys.path.insert(0, str(package_dir))\n",
    "from nodes.topics.subscribers import LaserscanSubscriber"
   ]
  },
  {
   "cell_type": "code",
   "execution_count": 4,
   "id": "b7912ed7",
   "metadata": {},
   "outputs": [],
   "source": [
    "rclpy.init()"
   ]
  },
  {
   "cell_type": "code",
   "execution_count": 5,
   "id": "a1ac2063",
   "metadata": {},
   "outputs": [],
   "source": [
    "laser = LaserscanSubscriber()"
   ]
  },
  {
   "cell_type": "code",
   "execution_count": 6,
   "id": "ca097ac1",
   "metadata": {},
   "outputs": [],
   "source": [
    "rclpy.spin_once(laser)"
   ]
  },
  {
   "cell_type": "code",
   "execution_count": 7,
   "id": "e4511abc",
   "metadata": {},
   "outputs": [
    {
     "data": {
      "text/plain": [
       "array([3.5       , 2.0231586 , 1.0137113 , 0.95835805, 3.5       ,\n",
       "       3.5       , 1.7434989 , 3.202091  , 2.5182679 , 1.8587428 ,\n",
       "       1.4763863 , 1.2635735 , 1.1118346 , 1.0396276 , 1.0073153 ,\n",
       "       0.8875099 , 0.7023362 , 0.61681956, 0.5336906 , 0.51706785,\n",
       "       0.49318492, 0.49150828, 0.5292365 , 0.55795294, 0.6366416 ,\n",
       "       0.7254145 , 0.9356778 , 1.3241615 , 1.5882338 , 2.3182728 ,\n",
       "       2.598829  , 3.080483  , 0.9748402 , 3.5       , 3.0672283 ,\n",
       "       3.5       ], dtype=float32)"
      ]
     },
     "execution_count": 7,
     "metadata": {},
     "output_type": "execute_result"
    }
   ],
   "source": [
    "laser.ranges"
   ]
  }
 ],
 "metadata": {
  "kernelspec": {
   "display_name": "Python 3 (ipykernel)",
   "language": "python",
   "name": "python3"
  },
  "language_info": {
   "codemirror_mode": {
    "name": "ipython",
    "version": 3
   },
   "file_extension": ".py",
   "mimetype": "text/x-python",
   "name": "python",
   "nbconvert_exporter": "python",
   "pygments_lexer": "ipython3",
   "version": "3.8.10"
  }
 },
 "nbformat": 4,
 "nbformat_minor": 5
}
