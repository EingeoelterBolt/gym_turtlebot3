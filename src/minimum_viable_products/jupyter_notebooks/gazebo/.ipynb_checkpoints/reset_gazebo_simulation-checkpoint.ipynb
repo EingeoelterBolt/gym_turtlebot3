{
 "cells": [
  {
   "cell_type": "code",
   "execution_count": 1,
   "id": "df4b00e4",
   "metadata": {},
   "outputs": [],
   "source": [
    "import rclpy\n",
    "from std_srvs.srv import Empty\n",
    "from rclpy.node import Node"
   ]
  },
  {
   "cell_type": "code",
   "execution_count": 2,
   "id": "b4bd0ba0",
   "metadata": {},
   "outputs": [],
   "source": [
    "class MinimalClientAsync(Node):\n",
    "\n",
    "    def __init__(self):\n",
    "        super().__init__('minimal_client_async')\n",
    "        self.cli = self.create_client(Empty, '/reset_simulation')\n",
    "        while not self.cli.wait_for_service(timeout_sec=10):\n",
    "            self.get_logger().info('service not available, waiting again...')\n",
    "        self.req = Empty.Request()\n",
    "\n",
    "    def send_request(self):\n",
    "        self.future = self.cli.call_async(self.req)"
   ]
  },
  {
   "cell_type": "code",
   "execution_count": 3,
   "id": "83b7061a",
   "metadata": {},
   "outputs": [],
   "source": [
    "rclpy.init()"
   ]
  },
  {
   "cell_type": "code",
   "execution_count": 4,
   "id": "a7fa3c71",
   "metadata": {},
   "outputs": [],
   "source": [
    "minimal_client = MinimalClientAsync()"
   ]
  },
  {
   "cell_type": "code",
   "execution_count": 5,
   "id": "a954a52d",
   "metadata": {},
   "outputs": [],
   "source": [
    "minimal_client.send_request()"
   ]
  },
  {
   "cell_type": "code",
   "execution_count": null,
   "id": "37215eea",
   "metadata": {},
   "outputs": [],
   "source": []
  }
 ],
 "metadata": {
  "kernelspec": {
   "display_name": "Python 3 (ipykernel)",
   "language": "python",
   "name": "python3"
  },
  "language_info": {
   "codemirror_mode": {
    "name": "ipython",
    "version": 3
   },
   "file_extension": ".py",
   "mimetype": "text/x-python",
   "name": "python",
   "nbconvert_exporter": "python",
   "pygments_lexer": "ipython3",
   "version": "3.8.10"
  }
 },
 "nbformat": 4,
 "nbformat_minor": 5
}
