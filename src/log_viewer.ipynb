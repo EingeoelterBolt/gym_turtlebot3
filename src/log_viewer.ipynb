{
 "cells": [
  {
   "cell_type": "markdown",
   "id": "b7a3537a",
   "metadata": {},
   "source": [
    "# Logs für Versuch 1 und Versuch 2 \n",
    "### Vollständiger Versuch 1 auf Youtube: https://youtu.be/5lB4cA6kCR8\n",
    "### Vollständiger Versuch 2 auf Youtube: https://youtu.be/Epp_mZGSji4"
   ]
  },
  {
   "cell_type": "code",
   "execution_count": null,
   "id": "78e6d315",
   "metadata": {},
   "outputs": [],
   "source": [
    "from IPython import display\n",
    "display.Image(\"./_logs/versuche/versuch1/versuch1.png\")"
   ]
  },
  {
   "cell_type": "code",
   "execution_count": null,
   "id": "c0dc6016",
   "metadata": {},
   "outputs": [],
   "source": [
    "display.Image(\"./_logs/versuche/versuch2/versuch2.png\")"
   ]
  },
  {
   "cell_type": "code",
   "execution_count": null,
   "id": "454ee9d2",
   "metadata": {},
   "outputs": [],
   "source": [
    "import plotly.express as px\n",
    "import pandas as pd"
   ]
  },
  {
   "cell_type": "markdown",
   "id": "b2cb9bc1",
   "metadata": {},
   "source": [
    "# Load logs for Versuch 1 and Versuch 2"
   ]
  },
  {
   "cell_type": "code",
   "execution_count": null,
   "id": "30034979",
   "metadata": {},
   "outputs": [],
   "source": [
    "dfv1 = pd.read_csv('./_logs/versuche/versuch1/logs.csv',index_col=False)\n",
    "dfv2 = pd.read_csv('./_logs/versuche/versuch2/logs.csv',index_col=False)"
   ]
  },
  {
   "cell_type": "markdown",
   "id": "8d1324a8",
   "metadata": {},
   "source": [
    "# Zustand: Laser"
   ]
  },
  {
   "cell_type": "code",
   "execution_count": null,
   "id": "5bc1ef14",
   "metadata": {},
   "outputs": [],
   "source": [
    "# Versuch 1\n",
    "fig = px.line(dfv1, x=dfv1.index, y=dfv1.columns[:18], title=\"Versuch 1\")\n",
    "fig.show()\n",
    "# Versuch 2\n",
    "fig = px.line(dfv2, x=dfv2.index, y=dfv2.columns[:18], title=\"Versuch 2\")\n",
    "fig.show()"
   ]
  },
  {
   "cell_type": "markdown",
   "id": "fd3263c8",
   "metadata": {},
   "source": [
    "# Zustand: Distanz"
   ]
  },
  {
   "cell_type": "code",
   "execution_count": null,
   "id": "4cdd5724",
   "metadata": {},
   "outputs": [],
   "source": [
    "# Versuch 1\n",
    "fig = px.line(dfv1, x=dfv1.index, y=[\"Distanz\"], title=\"Versuch 1\")\n",
    "fig.show()\n",
    "# Versuch 2\n",
    "fig = px.line(dfv2, x=dfv2.index, y=[\"Distanz\"], title=\"Versuch 2\")\n",
    "fig.show()"
   ]
  },
  {
   "cell_type": "markdown",
   "id": "3489f302",
   "metadata": {},
   "source": [
    "# Zustand: Winkel zum Ziel"
   ]
  },
  {
   "cell_type": "code",
   "execution_count": null,
   "id": "ab52b99f",
   "metadata": {},
   "outputs": [],
   "source": [
    "# Versuch 1\n",
    "fig = px.line(dfv1, x=dfv1.index, y=[\"WinkelzumZiel\"], title=\"Versuch 1\")\n",
    "fig.show()\n",
    "# Versuch 2\n",
    "fig = px.line(dfv2, x=dfv2.index, y=[\"WinkelzumZiel\"], title=\"Versuch 2\")\n",
    "fig.show()"
   ]
  },
  {
   "cell_type": "markdown",
   "id": "be4e577f",
   "metadata": {},
   "source": [
    "# Zustand: Geschwindigkeit, Winkelgeschwindigkeit, theta"
   ]
  },
  {
   "cell_type": "code",
   "execution_count": null,
   "id": "f2675025",
   "metadata": {},
   "outputs": [],
   "source": [
    "# Versuch 1\n",
    "fig = px.line(dfv1, x=dfv1.index, y=[\"Geschwindigkeit_X\",\"Winkelgeschwindigkeit_Z\",\"Theta\"], title=\"Versuch 1\")\n",
    "fig.show()\n",
    "# Versuch 2\n",
    "fig = px.line(dfv2, x=dfv2.index, y=[\"Geschwindigkeit_X\",\"Winkelgeschwindigkeit_Z\",\"Theta\"], title=\"Versuch 2\")\n",
    "fig.show()"
   ]
  },
  {
   "cell_type": "markdown",
   "id": "61aea805",
   "metadata": {},
   "source": [
    "# Returns"
   ]
  },
  {
   "cell_type": "code",
   "execution_count": null,
   "id": "185b5ea6",
   "metadata": {},
   "outputs": [],
   "source": [
    "# Versuch 1\n",
    "fig = px.line(dfv1, x=dfv1.index, y=[\"Returns\"], title=\"Versuch 1\")\n",
    "fig.show()\n",
    "# Versuch 2\n",
    "fig = px.line(dfv2, x=dfv2.index, y=[\"Returns\"], title=\"Versuch 2\")\n",
    "fig.show()"
   ]
  },
  {
   "cell_type": "markdown",
   "id": "ae519abe",
   "metadata": {},
   "source": [
    "# log-likelihood velocity and angular velocity"
   ]
  },
  {
   "cell_type": "code",
   "execution_count": null,
   "id": "3204ce79",
   "metadata": {},
   "outputs": [],
   "source": [
    "# Versuch 1\n",
    "fig = px.line(dfv1, x=dfv1.index, y=[\"log_prob_vel\",\"log_prob_ang\"], title=\"Versuch 1\")\n",
    "fig.show()\n",
    "# Versuch 2\n",
    "fig = px.line(dfv2, x=dfv2.index, y=[\"log_prob_vel\",\"log_prob_ang\"], title=\"Versuch 2\")\n",
    "fig.show()"
   ]
  },
  {
   "cell_type": "markdown",
   "id": "57265adb",
   "metadata": {},
   "source": [
    "# Values "
   ]
  },
  {
   "cell_type": "code",
   "execution_count": null,
   "id": "7791e62b",
   "metadata": {},
   "outputs": [],
   "source": [
    "# Versuch 1\n",
    "fig = px.line(dfv1, x=dfv1.index, y=[\"values\"], title=\"Versuch 1\")\n",
    "fig.show()\n",
    "# Versuch 2\n",
    "fig = px.line(dfv2, x=dfv2.index, y=[\"values\"], title=\"Versuch 2\")\n",
    "fig.show()"
   ]
  },
  {
   "cell_type": "markdown",
   "id": "e9eadd48",
   "metadata": {},
   "source": [
    "# Actions"
   ]
  },
  {
   "cell_type": "code",
   "execution_count": null,
   "id": "20af1762",
   "metadata": {},
   "outputs": [],
   "source": [
    "# Versuch 1\n",
    "fig = px.line(dfv1, x=dfv1.index, y=[\"action_vel\",\"action_ang\"], title=\"Versuch 1\")\n",
    "fig.show()\n",
    "# Versuch 2\n",
    "fig = px.line(dfv2, x=dfv2.index, y=[\"action_vel\",\"action_ang\"], title=\"Versuch 2\")\n",
    "fig.show()"
   ]
  },
  {
   "cell_type": "markdown",
   "id": "719bd966",
   "metadata": {},
   "source": [
    "# Advantage"
   ]
  },
  {
   "cell_type": "code",
   "execution_count": null,
   "id": "db482d79",
   "metadata": {},
   "outputs": [],
   "source": [
    "# Versuch 1\n",
    "fig = px.line(dfv1, x=dfv1.index, y=[\"advantage\"], title=\"Versuch 1\")\n",
    "fig.show()\n",
    "# Versuch 2\n",
    "fig = px.line(dfv2, x=dfv2.index, y=[\"advantage\"], title=\"Versuch 2\")\n",
    "fig.show()"
   ]
  },
  {
   "cell_type": "markdown",
   "id": "b48d89ab",
   "metadata": {},
   "source": [
    "# Load Loss data"
   ]
  },
  {
   "cell_type": "code",
   "execution_count": null,
   "id": "098a2661",
   "metadata": {},
   "outputs": [],
   "source": [
    "# Versuch 1\n",
    "dfv1 = pd.read_csv('./_logs/versuche/versuch1/loss/loss.csv',index_col=False)\n",
    "# Versuch 2\n",
    "dfv2 = pd.read_csv('./_logs/versuche/versuch2/loss/loss.csv',index_col=False)"
   ]
  },
  {
   "cell_type": "markdown",
   "id": "6d76c88d",
   "metadata": {},
   "source": [
    "# Loss: Value-Net"
   ]
  },
  {
   "cell_type": "code",
   "execution_count": null,
   "id": "6e9619a5",
   "metadata": {},
   "outputs": [],
   "source": [
    "# Versuch 1\n",
    "fig = px.line(dfv1, x=dfv1.index, y=[\"critic_loss\"], title=\"Versuch 1\")\n",
    "fig.show()\n",
    "# Versuch 2\n",
    "fig = px.line(dfv2, x=dfv2.index, y=[\"critic_loss\"], title=\"Versuch 2\")\n",
    "fig.show()"
   ]
  },
  {
   "cell_type": "markdown",
   "id": "588688c6",
   "metadata": {},
   "source": [
    "# Loss: Actor"
   ]
  },
  {
   "cell_type": "code",
   "execution_count": null,
   "id": "58871a55",
   "metadata": {},
   "outputs": [],
   "source": [
    "# Versuch 1\n",
    "fig = px.line(dfv1, x=dfv1.index, y=[\"actor_loss\"], title=\"Versuch 1\")\n",
    "fig.show()\n",
    "# Versuch 2\n",
    "fig = px.line(dfv2, x=dfv2.index, y=[\"actor_loss\"], title=\"Versuch 2\")\n",
    "fig.show()"
   ]
  },
  {
   "cell_type": "markdown",
   "id": "2ab2cd5b",
   "metadata": {},
   "source": [
    "# Loss: Combined"
   ]
  },
  {
   "cell_type": "code",
   "execution_count": null,
   "id": "9dadc559",
   "metadata": {},
   "outputs": [],
   "source": [
    "# Versuch 1\n",
    "fig = px.line(dfv1, x=dfv1.index, y=[\"total_loss\"], title=\"Versuch 1\")\n",
    "fig.show()\n",
    "# Versuch 2\n",
    "fig = px.line(dfv2, x=dfv2.index, y=[\"total_loss\"], title=\"Versuch 2\")\n",
    "fig.show()"
   ]
  },
  {
   "cell_type": "markdown",
   "id": "e51ae875",
   "metadata": {},
   "source": [
    "# Load Rewards data"
   ]
  },
  {
   "cell_type": "code",
   "execution_count": null,
   "id": "07745d14",
   "metadata": {},
   "outputs": [],
   "source": [
    "# Versuch 1\n",
    "dfv1 = pd.read_excel('./_logs/versuche/versuch1/rewards/56832_02-09-2021 18:33:11.xlsx')\n",
    "# Versuch 2\n",
    "dfv2 = pd.read_excel('./_logs/versuche/versuch2/rewards/53248_02-09-2021 22:04:12.xlsx')"
   ]
  },
  {
   "cell_type": "code",
   "execution_count": null,
   "id": "ee941cfb",
   "metadata": {},
   "outputs": [],
   "source": [
    "# Versuch 1\n",
    "fig = px.line(dfv1, x=dfv1.index, y=[\"reward\"], title=\"Versuch 1\")\n",
    "fig.show()\n",
    "# Versuch 2\n",
    "fig = px.line(dfv2, x=dfv2.index, y=[\"reward\"], title=\"Versuch 2\")\n",
    "fig.show()"
   ]
  }
 ],
 "metadata": {
  "kernelspec": {
   "display_name": "Python 3 (ipykernel)",
   "language": "python",
   "name": "python3"
  },
  "language_info": {
   "codemirror_mode": {
    "name": "ipython",
    "version": 3
   },
   "file_extension": ".py",
   "mimetype": "text/x-python",
   "name": "python",
   "nbconvert_exporter": "python",
   "pygments_lexer": "ipython3",
   "version": "3.8.10"
  }
 },
 "nbformat": 4,
 "nbformat_minor": 5
}
